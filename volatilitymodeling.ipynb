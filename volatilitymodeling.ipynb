{
 "cells": [
  {
   "cell_type": "markdown",
   "id": "7e511044",
   "metadata": {},
   "source": [
    "# volatility model using ARCH , GARCH and EWMA #"
   ]
  },
  {
   "cell_type": "code",
   "execution_count": 2,
   "id": "edcf9a15",
   "metadata": {},
   "outputs": [],
   "source": [
    "# import imp lib \n",
    "\n",
    "import yfinance as yf \n",
    "import numpy as np \n",
    "import pandas as pd \n",
    "\n"
   ]
  },
  {
   "cell_type": "code",
   "execution_count": 3,
   "id": "ae0c6387",
   "metadata": {},
   "outputs": [
    {
     "name": "stderr",
     "output_type": "stream",
     "text": [
      "C:\\Users\\DELL\\AppData\\Local\\Temp\\ipykernel_8028\\3900761540.py:3: FutureWarning: YF.download() has changed argument auto_adjust default to True\n",
      "  df=yf.download('JPM',start='2022-01-01', end='2025-01-01')\n",
      "[*********************100%***********************]  1 of 1 completed\n"
     ]
    },
    {
     "data": {
      "text/html": [
       "<div>\n",
       "<style scoped>\n",
       "    .dataframe tbody tr th:only-of-type {\n",
       "        vertical-align: middle;\n",
       "    }\n",
       "\n",
       "    .dataframe tbody tr th {\n",
       "        vertical-align: top;\n",
       "    }\n",
       "\n",
       "    .dataframe thead th {\n",
       "        text-align: right;\n",
       "    }\n",
       "</style>\n",
       "<table border=\"1\" class=\"dataframe\">\n",
       "  <thead>\n",
       "    <tr style=\"text-align: right;\">\n",
       "      <th>Ticker</th>\n",
       "      <th>JPM</th>\n",
       "    </tr>\n",
       "    <tr>\n",
       "      <th>Date</th>\n",
       "      <th></th>\n",
       "    </tr>\n",
       "  </thead>\n",
       "  <tbody>\n",
       "    <tr>\n",
       "      <th>2022-01-03</th>\n",
       "      <td>146.291046</td>\n",
       "    </tr>\n",
       "    <tr>\n",
       "      <th>2022-01-04</th>\n",
       "      <td>151.836884</td>\n",
       "    </tr>\n",
       "    <tr>\n",
       "      <th>2022-01-05</th>\n",
       "      <td>149.060989</td>\n",
       "    </tr>\n",
       "    <tr>\n",
       "      <th>2022-01-06</th>\n",
       "      <td>150.644638</td>\n",
       "    </tr>\n",
       "    <tr>\n",
       "      <th>2022-01-07</th>\n",
       "      <td>152.137238</td>\n",
       "    </tr>\n",
       "    <tr>\n",
       "      <th>...</th>\n",
       "      <td>...</td>\n",
       "    </tr>\n",
       "    <tr>\n",
       "      <th>2024-12-24</th>\n",
       "      <td>238.440521</td>\n",
       "    </tr>\n",
       "    <tr>\n",
       "      <th>2024-12-26</th>\n",
       "      <td>239.257263</td>\n",
       "    </tr>\n",
       "    <tr>\n",
       "      <th>2024-12-27</th>\n",
       "      <td>237.318710</td>\n",
       "    </tr>\n",
       "    <tr>\n",
       "      <th>2024-12-30</th>\n",
       "      <td>235.498260</td>\n",
       "    </tr>\n",
       "    <tr>\n",
       "      <th>2024-12-31</th>\n",
       "      <td>235.882034</td>\n",
       "    </tr>\n",
       "  </tbody>\n",
       "</table>\n",
       "<p>753 rows × 1 columns</p>\n",
       "</div>"
      ],
      "text/plain": [
       "Ticker             JPM\n",
       "Date                  \n",
       "2022-01-03  146.291046\n",
       "2022-01-04  151.836884\n",
       "2022-01-05  149.060989\n",
       "2022-01-06  150.644638\n",
       "2022-01-07  152.137238\n",
       "...                ...\n",
       "2024-12-24  238.440521\n",
       "2024-12-26  239.257263\n",
       "2024-12-27  237.318710\n",
       "2024-12-30  235.498260\n",
       "2024-12-31  235.882034\n",
       "\n",
       "[753 rows x 1 columns]"
      ]
     },
     "execution_count": 3,
     "metadata": {},
     "output_type": "execute_result"
    }
   ],
   "source": [
    "# import data from yfinace \n",
    "\n",
    "df=yf.download('JPM',start='2022-01-01', end='2025-01-01')\n",
    "df=df['Close']\n",
    "df"
   ]
  },
  {
   "cell_type": "markdown",
   "id": "cf764721",
   "metadata": {},
   "source": [
    "# ARCH"
   ]
  },
  {
   "cell_type": "code",
   "execution_count": 4,
   "id": "116d202d",
   "metadata": {},
   "outputs": [],
   "source": [
    "from arch import arch_model"
   ]
  },
  {
   "cell_type": "code",
   "execution_count": 5,
   "id": "1bed74f5",
   "metadata": {},
   "outputs": [
    {
     "data": {
      "text/plain": [
       "Date\n",
       "2022-01-04    3.790962\n",
       "2022-01-05   -1.828208\n",
       "2022-01-06    1.062417\n",
       "2022-01-07    0.990808\n",
       "2022-01-10    0.095723\n",
       "                ...   \n",
       "2024-12-24    1.644367\n",
       "2024-12-26    0.342535\n",
       "2024-12-27   -0.810238\n",
       "2024-12-30   -0.767091\n",
       "2024-12-31    0.162962\n",
       "Name: returns, Length: 752, dtype: float64"
      ]
     },
     "execution_count": 5,
     "metadata": {},
     "output_type": "execute_result"
    }
   ],
   "source": [
    "# calculate daily return\n",
    "\n",
    "df['returns']=df.pct_change()*100\n",
    "\n",
    "returns= df['returns'].dropna()\n",
    "returns"
   ]
  },
  {
   "cell_type": "code",
   "execution_count": 6,
   "id": "e3404b43",
   "metadata": {},
   "outputs": [
    {
     "data": {
      "text/html": [
       "<table class=\"simpletable\">\n",
       "<caption>Constant Mean - ARCH Model Results</caption>\n",
       "<tr>\n",
       "  <th>Dep. Variable:</th>       <td>returns</td>      <th>  R-squared:         </th>  <td>   0.000</td> \n",
       "</tr>\n",
       "<tr>\n",
       "  <th>Mean Model:</th>       <td>Constant Mean</td>   <th>  Adj. R-squared:    </th>  <td>   0.000</td> \n",
       "</tr>\n",
       "<tr>\n",
       "  <th>Vol Model:</th>            <td>ARCH</td>        <th>  Log-Likelihood:    </th> <td>  -1400.95</td>\n",
       "</tr>\n",
       "<tr>\n",
       "  <th>Distribution:</th>        <td>Normal</td>       <th>  AIC:               </th> <td>   2807.90</td>\n",
       "</tr>\n",
       "<tr>\n",
       "  <th>Method:</th>        <td>Maximum Likelihood</td> <th>  BIC:               </th> <td>   2821.76</td>\n",
       "</tr>\n",
       "<tr>\n",
       "  <th></th>                        <td></td>          <th>  No. Observations:  </th>     <td>752</td>   \n",
       "</tr>\n",
       "<tr>\n",
       "  <th>Date:</th>           <td>Thu, Jul 17 2025</td>  <th>  Df Residuals:      </th>     <td>751</td>   \n",
       "</tr>\n",
       "<tr>\n",
       "  <th>Time:</th>               <td>20:58:27</td>      <th>  Df Model:          </th>      <td>1</td>    \n",
       "</tr>\n",
       "</table>\n",
       "<table class=\"simpletable\">\n",
       "<caption>Mean Model</caption>\n",
       "<tr>\n",
       "   <td></td>     <th>coef</th>     <th>std err</th>      <th>t</th>       <th>P>|t|</th>     <th>95.0% Conf. Int.</th>  \n",
       "</tr>\n",
       "<tr>\n",
       "  <th>mu</th> <td>    0.0978</td> <td>5.518e-02</td> <td>    1.772</td> <td>7.646e-02</td> <td>[-1.039e-02,  0.206]</td>\n",
       "</tr>\n",
       "</table>\n",
       "<table class=\"simpletable\">\n",
       "<caption>Volatility Model</caption>\n",
       "<tr>\n",
       "      <td></td>        <th>coef</th>     <th>std err</th>      <th>t</th>       <th>P>|t|</th>     <th>95.0% Conf. Int.</th>  \n",
       "</tr>\n",
       "<tr>\n",
       "  <th>omega</th>    <td>    2.1877</td> <td>    0.332</td> <td>    6.584</td> <td>4.591e-11</td>   <td>[  1.536,  2.839]</td> \n",
       "</tr>\n",
       "<tr>\n",
       "  <th>alpha[1]</th> <td>    0.1224</td> <td>7.467e-02</td> <td>    1.639</td> <td>    0.101</td> <td>[-2.394e-02,  0.269]</td>\n",
       "</tr>\n",
       "</table><br/><br/>Covariance estimator: robust"
      ],
      "text/latex": [
       "\\begin{center}\n",
       "\\begin{tabular}{lclc}\n",
       "\\toprule\n",
       "\\textbf{Dep. Variable:} &      returns       & \\textbf{  R-squared:         } &     0.000   \\\\\n",
       "\\textbf{Mean Model:}    &   Constant Mean    & \\textbf{  Adj. R-squared:    } &     0.000   \\\\\n",
       "\\textbf{Vol Model:}     &        ARCH        & \\textbf{  Log-Likelihood:    } &   -1400.95  \\\\\n",
       "\\textbf{Distribution:}  &       Normal       & \\textbf{  AIC:               } &    2807.90  \\\\\n",
       "\\textbf{Method:}        & Maximum Likelihood & \\textbf{  BIC:               } &    2821.76  \\\\\n",
       "\\textbf{}               &                    & \\textbf{  No. Observations:  } &    752      \\\\\n",
       "\\textbf{Date:}          &  Thu, Jul 17 2025  & \\textbf{  Df Residuals:      } &    751      \\\\\n",
       "\\textbf{Time:}          &      20:58:27      & \\textbf{  Df Model:          } &     1       \\\\\n",
       "\\bottomrule\n",
       "\\end{tabular}\n",
       "\\begin{tabular}{lccccc}\n",
       "            & \\textbf{coef} & \\textbf{std err} & \\textbf{t} & \\textbf{P$> |$t$|$} & \\textbf{95.0\\% Conf. Int.}  \\\\\n",
       "\\midrule\n",
       "\\textbf{mu} &       0.0978  &    5.518e-02     &     1.772  &      7.646e-02       &    [-1.039e-02,  0.206]     \\\\\n",
       "                  & \\textbf{coef} & \\textbf{std err} & \\textbf{t} & \\textbf{P$> |$t$|$} & \\textbf{95.0\\% Conf. Int.}  \\\\\n",
       "\\midrule\n",
       "\\textbf{omega}    &       2.1877  &        0.332     &     6.584  &      4.591e-11       &     [  1.536,  2.839]       \\\\\n",
       "\\textbf{alpha[1]} &       0.1224  &    7.467e-02     &     1.639  &          0.101       &    [-2.394e-02,  0.269]     \\\\\n",
       "\\bottomrule\n",
       "\\end{tabular}\n",
       "%\\caption{Constant Mean - ARCH Model Results}\n",
       "\\end{center}\n",
       "\n",
       "Covariance estimator: robust"
      ],
      "text/plain": [
       "<class 'statsmodels.iolib.summary.Summary'>\n",
       "\"\"\"\n",
       "                      Constant Mean - ARCH Model Results                      \n",
       "==============================================================================\n",
       "Dep. Variable:                returns   R-squared:                       0.000\n",
       "Mean Model:             Constant Mean   Adj. R-squared:                  0.000\n",
       "Vol Model:                       ARCH   Log-Likelihood:               -1400.95\n",
       "Distribution:                  Normal   AIC:                           2807.90\n",
       "Method:            Maximum Likelihood   BIC:                           2821.76\n",
       "                                        No. Observations:                  752\n",
       "Date:                Thu, Jul 17 2025   Df Residuals:                      751\n",
       "Time:                        20:58:27   Df Model:                            1\n",
       "                                 Mean Model                                \n",
       "===========================================================================\n",
       "                 coef    std err          t      P>|t|     95.0% Conf. Int.\n",
       "---------------------------------------------------------------------------\n",
       "mu             0.0978  5.518e-02      1.772  7.646e-02 [-1.039e-02,  0.206]\n",
       "                              Volatility Model                             \n",
       "===========================================================================\n",
       "                 coef    std err          t      P>|t|     95.0% Conf. Int.\n",
       "---------------------------------------------------------------------------\n",
       "omega          2.1877      0.332      6.584  4.591e-11    [  1.536,  2.839]\n",
       "alpha[1]       0.1224  7.467e-02      1.639      0.101 [-2.394e-02,  0.269]\n",
       "===========================================================================\n",
       "\n",
       "Covariance estimator: robust\n",
       "\"\"\""
      ]
     },
     "execution_count": 6,
     "metadata": {},
     "output_type": "execute_result"
    }
   ],
   "source": [
    "# create and fit ARCH model\n",
    "\n",
    "model=arch_model(returns, vol='ARCH', p=1)\n",
    "results=model.fit(disp='off')\n",
    "\n",
    "# summary \n",
    "\n",
    "results.summary()"
   ]
  },
  {
   "cell_type": "markdown",
   "id": "f332d672",
   "metadata": {},
   "source": [
    "analysis \n",
    "\n",
    "mu- 0.1260   => avg daily return \n",
    "\n",
    "omega =\t1.6656  => the long run base level of variance \n",
    "\n",
    "alpha[1] = 0.4211  => how much yesterdays squared shock impacts todays variance "
   ]
  },
  {
   "cell_type": "code",
   "execution_count": 7,
   "id": "4a096365",
   "metadata": {},
   "outputs": [
    {
     "data": {
      "text/html": [
       "<div>\n",
       "<style scoped>\n",
       "    .dataframe tbody tr th:only-of-type {\n",
       "        vertical-align: middle;\n",
       "    }\n",
       "\n",
       "    .dataframe tbody tr th {\n",
       "        vertical-align: top;\n",
       "    }\n",
       "\n",
       "    .dataframe thead th {\n",
       "        text-align: right;\n",
       "    }\n",
       "</style>\n",
       "<table border=\"1\" class=\"dataframe\">\n",
       "  <thead>\n",
       "    <tr style=\"text-align: right;\">\n",
       "      <th></th>\n",
       "      <th>h.1</th>\n",
       "      <th>h.2</th>\n",
       "      <th>h.3</th>\n",
       "      <th>h.4</th>\n",
       "      <th>h.5</th>\n",
       "    </tr>\n",
       "    <tr>\n",
       "      <th>Date</th>\n",
       "      <th></th>\n",
       "      <th></th>\n",
       "      <th></th>\n",
       "      <th></th>\n",
       "      <th></th>\n",
       "    </tr>\n",
       "  </thead>\n",
       "  <tbody>\n",
       "    <tr>\n",
       "      <th>2024-12-31</th>\n",
       "      <td>1.479267</td>\n",
       "      <td>1.567022</td>\n",
       "      <td>1.577429</td>\n",
       "      <td>1.578698</td>\n",
       "      <td>1.578853</td>\n",
       "    </tr>\n",
       "  </tbody>\n",
       "</table>\n",
       "</div>"
      ],
      "text/plain": [
       "                 h.1       h.2       h.3       h.4       h.5\n",
       "Date                                                        \n",
       "2024-12-31  1.479267  1.567022  1.577429  1.578698  1.578853"
      ]
     },
     "execution_count": 7,
     "metadata": {},
     "output_type": "execute_result"
    }
   ],
   "source": [
    "# forecast 5 days ahead \n",
    "\n",
    "forecast= results.forecast(horizon=5)\n",
    "predicted_variance = forecast.variance\n",
    "\n",
    "\n",
    "# volatility = var sqroot\n",
    "\n",
    "predicted_volatility= predicted_variance**0.5\n",
    "predicted_volatility\n",
    "\n",
    "\n",
    "\n",
    "\n"
   ]
  },
  {
   "cell_type": "code",
   "execution_count": 8,
   "id": "885c2ada",
   "metadata": {},
   "outputs": [
    {
     "data": {
      "text/plain": [
       "1.5562544"
      ]
     },
     "execution_count": 8,
     "metadata": {},
     "output_type": "execute_result"
    }
   ],
   "source": [
    "# calculate avg of predicted volaitilty \n",
    "\n",
    "predicted_volatility=[1.479268,\t1.567023,\t1.577429,\t1.578698,\t1.578854]\n",
    "predicted_avg_volatility= sum(predicted_volatility)/len(predicted_volatility)\n",
    "predicted_avg_volatility"
   ]
  },
  {
   "cell_type": "code",
   "execution_count": 9,
   "id": "c9a83a21",
   "metadata": {},
   "outputs": [
    {
     "name": "stderr",
     "output_type": "stream",
     "text": [
      "C:\\Users\\DELL\\AppData\\Local\\Temp\\ipykernel_8028\\2524937218.py:8: FutureWarning: YF.download() has changed argument auto_adjust default to True\n",
      "  real_df= yf.download('JPM', start_date, end_date)\n",
      "[*********************100%***********************]  1 of 1 completed\n"
     ]
    },
    {
     "data": {
      "text/plain": [
       "1.691952213933136"
      ]
     },
     "execution_count": 9,
     "metadata": {},
     "output_type": "execute_result"
    }
   ],
   "source": [
    "# to compare forecasted volatility with real \n",
    "\n",
    "start_date= pd.to_datetime('2024-12-31')\n",
    "end_date = pd.to_datetime('2025-01-09')\n",
    "\n",
    "\n",
    "\n",
    "real_df= yf.download('JPM', start_date, end_date)\n",
    "real_df['retruns']= real_df['Close'].pct_change()*100\n",
    "real_df = real_df.dropna()\n",
    "\n",
    "realised_vol = real_df['retruns'].std()*np.sqrt(5)    # since we are predicting for next five day so sqrt (5)\n",
    "realised_vol"
   ]
  },
  {
   "cell_type": "code",
   "execution_count": 10,
   "id": "61ff8b0c",
   "metadata": {},
   "outputs": [
    {
     "name": "stdout",
     "output_type": "stream",
     "text": [
      "ARCH model pred. volt. 1.5562544\n",
      "acutual volatility 1.691952213933136\n"
     ]
    }
   ],
   "source": [
    "print(\"ARCH model pred. volt.\", predicted_avg_volatility)\n",
    "print(\"acutual volatility\", realised_vol)"
   ]
  },
  {
   "cell_type": "markdown",
   "id": "933a61ab",
   "metadata": {},
   "source": [
    "# GARCH"
   ]
  },
  {
   "cell_type": "code",
   "execution_count": 11,
   "id": "0937b5df",
   "metadata": {},
   "outputs": [],
   "source": [
    "from arch import arch_model"
   ]
  },
  {
   "cell_type": "code",
   "execution_count": 12,
   "id": "579649f3",
   "metadata": {},
   "outputs": [
    {
     "data": {
      "text/html": [
       "<table class=\"simpletable\">\n",
       "<caption>Constant Mean - GARCH Model Results</caption>\n",
       "<tr>\n",
       "  <th>Dep. Variable:</th>       <td>returns</td>      <th>  R-squared:         </th>  <td>   0.000</td> \n",
       "</tr>\n",
       "<tr>\n",
       "  <th>Mean Model:</th>       <td>Constant Mean</td>   <th>  Adj. R-squared:    </th>  <td>   0.000</td> \n",
       "</tr>\n",
       "<tr>\n",
       "  <th>Vol Model:</th>            <td>GARCH</td>       <th>  Log-Likelihood:    </th> <td>  -1387.47</td>\n",
       "</tr>\n",
       "<tr>\n",
       "  <th>Distribution:</th>        <td>Normal</td>       <th>  AIC:               </th> <td>   2782.94</td>\n",
       "</tr>\n",
       "<tr>\n",
       "  <th>Method:</th>        <td>Maximum Likelihood</td> <th>  BIC:               </th> <td>   2801.43</td>\n",
       "</tr>\n",
       "<tr>\n",
       "  <th></th>                        <td></td>          <th>  No. Observations:  </th>     <td>752</td>   \n",
       "</tr>\n",
       "<tr>\n",
       "  <th>Date:</th>           <td>Thu, Jul 17 2025</td>  <th>  Df Residuals:      </th>     <td>751</td>   \n",
       "</tr>\n",
       "<tr>\n",
       "  <th>Time:</th>               <td>20:58:50</td>      <th>  Df Model:          </th>      <td>1</td>    \n",
       "</tr>\n",
       "</table>\n",
       "<table class=\"simpletable\">\n",
       "<caption>Mean Model</caption>\n",
       "<tr>\n",
       "   <td></td>     <th>coef</th>     <th>std err</th>      <th>t</th>       <th>P>|t|</th>    <th>95.0% Conf. Int.</th>  \n",
       "</tr>\n",
       "<tr>\n",
       "  <th>mu</th> <td>    0.1146</td> <td>5.754e-02</td> <td>    1.991</td> <td>4.648e-02</td> <td>[1.787e-03,  0.227]</td>\n",
       "</tr>\n",
       "</table>\n",
       "<table class=\"simpletable\">\n",
       "<caption>Volatility Model</caption>\n",
       "<tr>\n",
       "      <td></td>        <th>coef</th>     <th>std err</th>      <th>t</th>       <th>P>|t|</th>      <th>95.0% Conf. Int.</th>   \n",
       "</tr>\n",
       "<tr>\n",
       "  <th>omega</th>    <td>    0.0220</td> <td>1.702e-02</td> <td>    1.294</td> <td>    0.196</td> <td>[-1.134e-02,5.537e-02]</td>\n",
       "</tr>\n",
       "<tr>\n",
       "  <th>alpha[1]</th> <td>    0.0165</td> <td>1.112e-02</td> <td>    1.481</td> <td>    0.139</td> <td>[-5.326e-03,3.827e-02]</td>\n",
       "</tr>\n",
       "<tr>\n",
       "  <th>beta[1]</th>  <td>    0.9737</td> <td>1.217e-02</td> <td>   79.973</td>   <td>0.000</td>      <td>[  0.950,  0.998]</td>  \n",
       "</tr>\n",
       "</table><br/><br/>Covariance estimator: robust"
      ],
      "text/latex": [
       "\\begin{center}\n",
       "\\begin{tabular}{lclc}\n",
       "\\toprule\n",
       "\\textbf{Dep. Variable:} &      returns       & \\textbf{  R-squared:         } &     0.000   \\\\\n",
       "\\textbf{Mean Model:}    &   Constant Mean    & \\textbf{  Adj. R-squared:    } &     0.000   \\\\\n",
       "\\textbf{Vol Model:}     &       GARCH        & \\textbf{  Log-Likelihood:    } &   -1387.47  \\\\\n",
       "\\textbf{Distribution:}  &       Normal       & \\textbf{  AIC:               } &    2782.94  \\\\\n",
       "\\textbf{Method:}        & Maximum Likelihood & \\textbf{  BIC:               } &    2801.43  \\\\\n",
       "\\textbf{}               &                    & \\textbf{  No. Observations:  } &    752      \\\\\n",
       "\\textbf{Date:}          &  Thu, Jul 17 2025  & \\textbf{  Df Residuals:      } &    751      \\\\\n",
       "\\textbf{Time:}          &      20:58:50      & \\textbf{  Df Model:          } &     1       \\\\\n",
       "\\bottomrule\n",
       "\\end{tabular}\n",
       "\\begin{tabular}{lccccc}\n",
       "            & \\textbf{coef} & \\textbf{std err} & \\textbf{t} & \\textbf{P$> |$t$|$} & \\textbf{95.0\\% Conf. Int.}  \\\\\n",
       "\\midrule\n",
       "\\textbf{mu} &       0.1146  &    5.754e-02     &     1.991  &      4.648e-02       &    [1.787e-03,  0.227]      \\\\\n",
       "                  & \\textbf{coef} & \\textbf{std err} & \\textbf{t} & \\textbf{P$> |$t$|$} & \\textbf{95.0\\% Conf. Int.}  \\\\\n",
       "\\midrule\n",
       "\\textbf{omega}    &       0.0220  &    1.702e-02     &     1.294  &          0.196       &   [-1.134e-02,5.537e-02]    \\\\\n",
       "\\textbf{alpha[1]} &       0.0165  &    1.112e-02     &     1.481  &          0.139       &   [-5.326e-03,3.827e-02]    \\\\\n",
       "\\textbf{beta[1]}  &       0.9737  &    1.217e-02     &    79.973  &        0.000         &     [  0.950,  0.998]       \\\\\n",
       "\\bottomrule\n",
       "\\end{tabular}\n",
       "%\\caption{Constant Mean - GARCH Model Results}\n",
       "\\end{center}\n",
       "\n",
       "Covariance estimator: robust"
      ],
      "text/plain": [
       "<class 'statsmodels.iolib.summary.Summary'>\n",
       "\"\"\"\n",
       "                     Constant Mean - GARCH Model Results                      \n",
       "==============================================================================\n",
       "Dep. Variable:                returns   R-squared:                       0.000\n",
       "Mean Model:             Constant Mean   Adj. R-squared:                  0.000\n",
       "Vol Model:                      GARCH   Log-Likelihood:               -1387.47\n",
       "Distribution:                  Normal   AIC:                           2782.94\n",
       "Method:            Maximum Likelihood   BIC:                           2801.43\n",
       "                                        No. Observations:                  752\n",
       "Date:                Thu, Jul 17 2025   Df Residuals:                      751\n",
       "Time:                        20:58:50   Df Model:                            1\n",
       "                                Mean Model                                \n",
       "==========================================================================\n",
       "                 coef    std err          t      P>|t|    95.0% Conf. Int.\n",
       "--------------------------------------------------------------------------\n",
       "mu             0.1146  5.754e-02      1.991  4.648e-02 [1.787e-03,  0.227]\n",
       "                               Volatility Model                              \n",
       "=============================================================================\n",
       "                 coef    std err          t      P>|t|       95.0% Conf. Int.\n",
       "-----------------------------------------------------------------------------\n",
       "omega          0.0220  1.702e-02      1.294      0.196 [-1.134e-02,5.537e-02]\n",
       "alpha[1]       0.0165  1.112e-02      1.481      0.139 [-5.326e-03,3.827e-02]\n",
       "beta[1]        0.9737  1.217e-02     79.973      0.000      [  0.950,  0.998]\n",
       "=============================================================================\n",
       "\n",
       "Covariance estimator: robust\n",
       "\"\"\""
      ]
     },
     "execution_count": 12,
     "metadata": {},
     "output_type": "execute_result"
    }
   ],
   "source": [
    "# create and fit ARCH model\n",
    "\n",
    "model=arch_model(returns, vol='GARCH', p=1 , q=1)\n",
    "results=model.fit(disp='off')\n",
    "\n",
    "# summary \n",
    "\n",
    "results.summary()"
   ]
  },
  {
   "cell_type": "markdown",
   "id": "9ca1155c",
   "metadata": {},
   "source": [
    "mu\t0.1146; estimated avg daily return \n",
    "omega\t0.0220 : the long run base level of variance \n",
    "alpha[1]\t0.0165: how much yesterdays shock affects todays shock\n",
    "beta[1]\t0.9737:  how much yesterdays variance affects todays variance"
   ]
  },
  {
   "cell_type": "code",
   "execution_count": 13,
   "id": "70557bf7",
   "metadata": {},
   "outputs": [
    {
     "data": {
      "text/html": [
       "<div>\n",
       "<style scoped>\n",
       "    .dataframe tbody tr th:only-of-type {\n",
       "        vertical-align: middle;\n",
       "    }\n",
       "\n",
       "    .dataframe tbody tr th {\n",
       "        vertical-align: top;\n",
       "    }\n",
       "\n",
       "    .dataframe thead th {\n",
       "        text-align: right;\n",
       "    }\n",
       "</style>\n",
       "<table border=\"1\" class=\"dataframe\">\n",
       "  <thead>\n",
       "    <tr style=\"text-align: right;\">\n",
       "      <th></th>\n",
       "      <th>h.1</th>\n",
       "      <th>h.2</th>\n",
       "      <th>h.3</th>\n",
       "      <th>h.4</th>\n",
       "      <th>h.5</th>\n",
       "    </tr>\n",
       "    <tr>\n",
       "      <th>Date</th>\n",
       "      <th></th>\n",
       "      <th></th>\n",
       "      <th></th>\n",
       "      <th></th>\n",
       "      <th></th>\n",
       "    </tr>\n",
       "  </thead>\n",
       "  <tbody>\n",
       "    <tr>\n",
       "      <th>2024-12-31</th>\n",
       "      <td>1.623483</td>\n",
       "      <td>1.622252</td>\n",
       "      <td>1.621032</td>\n",
       "      <td>1.619824</td>\n",
       "      <td>1.618626</td>\n",
       "    </tr>\n",
       "  </tbody>\n",
       "</table>\n",
       "</div>"
      ],
      "text/plain": [
       "                 h.1       h.2       h.3       h.4       h.5\n",
       "Date                                                        \n",
       "2024-12-31  1.623483  1.622252  1.621032  1.619824  1.618626"
      ]
     },
     "execution_count": 13,
     "metadata": {},
     "output_type": "execute_result"
    }
   ],
   "source": [
    "# forecast 5 days ahead \n",
    "\n",
    "forecast= results.forecast(horizon=5)\n",
    "predicted_variance = forecast.variance\n",
    "\n",
    "\n",
    "# volatility = var sqroot\n",
    "\n",
    "predicted_volatility= predicted_variance**0.5\n",
    "predicted_volatility\n"
   ]
  },
  {
   "cell_type": "code",
   "execution_count": 14,
   "id": "b207ddea",
   "metadata": {},
   "outputs": [
    {
     "data": {
      "text/plain": [
       "1.6210442"
      ]
     },
     "execution_count": 14,
     "metadata": {},
     "output_type": "execute_result"
    }
   ],
   "source": [
    "# calculate avg of predicted volaitilty \n",
    "\n",
    "predicted_volatility=[\t1.623484,\t1.622253,\t1.621033,\t1.619824,\t1.618627]\n",
    "predicted_avg_volatility= sum(predicted_volatility)/len(predicted_volatility)\n",
    "predicted_avg_volatility"
   ]
  },
  {
   "cell_type": "code",
   "execution_count": 15,
   "id": "095c1801",
   "metadata": {},
   "outputs": [
    {
     "name": "stderr",
     "output_type": "stream",
     "text": [
      "C:\\Users\\DELL\\AppData\\Local\\Temp\\ipykernel_8028\\1245339672.py:8: FutureWarning: YF.download() has changed argument auto_adjust default to True\n",
      "  real_df= yf.download('JPM', start_date, end_date)\n",
      "[*********************100%***********************]  1 of 1 completed\n"
     ]
    },
    {
     "data": {
      "text/plain": [
       "1.691952213933136"
      ]
     },
     "execution_count": 15,
     "metadata": {},
     "output_type": "execute_result"
    }
   ],
   "source": [
    "# to compare forecasted volatility with real \n",
    "\n",
    "start_date= pd.to_datetime('2024-12-31')\n",
    "end_date = pd.to_datetime('2025-01-09')\n",
    "\n",
    "\n",
    "\n",
    "real_df= yf.download('JPM', start_date, end_date)\n",
    "real_df['retruns']= real_df['Close'].pct_change()*100\n",
    "real_df = real_df.dropna()\n",
    "\n",
    "realised_vol = real_df['retruns'].std()*np.sqrt(5)\n",
    "realised_vol"
   ]
  },
  {
   "cell_type": "code",
   "execution_count": 16,
   "id": "5d7af026",
   "metadata": {},
   "outputs": [
    {
     "name": "stdout",
     "output_type": "stream",
     "text": [
      "GARCH model pred. volt. 1.6210442\n",
      "acutual volatility 1.691952213933136\n"
     ]
    }
   ],
   "source": [
    "print(\"GARCH model pred. volt.\", predicted_avg_volatility)\n",
    "print(\"acutual volatility\", realised_vol)"
   ]
  },
  {
   "cell_type": "markdown",
   "id": "6495fd14",
   "metadata": {},
   "source": [
    "# EWMA "
   ]
  },
  {
   "cell_type": "code",
   "execution_count": 17,
   "id": "4985761d",
   "metadata": {},
   "outputs": [
    {
     "name": "stderr",
     "output_type": "stream",
     "text": [
      "C:\\Users\\DELL\\AppData\\Local\\Temp\\ipykernel_8028\\1238891280.py:3: FutureWarning: YF.download() has changed argument auto_adjust default to True\n",
      "  df=yf.download('JPM',start='2024-08-01', end='2025-01-01')\n",
      "[*********************100%***********************]  1 of 1 completed\n"
     ]
    },
    {
     "data": {
      "text/html": [
       "<div>\n",
       "<style scoped>\n",
       "    .dataframe tbody tr th:only-of-type {\n",
       "        vertical-align: middle;\n",
       "    }\n",
       "\n",
       "    .dataframe tbody tr th {\n",
       "        vertical-align: top;\n",
       "    }\n",
       "\n",
       "    .dataframe thead th {\n",
       "        text-align: right;\n",
       "    }\n",
       "</style>\n",
       "<table border=\"1\" class=\"dataframe\">\n",
       "  <thead>\n",
       "    <tr style=\"text-align: right;\">\n",
       "      <th>Ticker</th>\n",
       "      <th>JPM</th>\n",
       "    </tr>\n",
       "    <tr>\n",
       "      <th>Date</th>\n",
       "      <th></th>\n",
       "    </tr>\n",
       "  </thead>\n",
       "  <tbody>\n",
       "    <tr>\n",
       "      <th>2024-08-01</th>\n",
       "      <td>203.392670</td>\n",
       "    </tr>\n",
       "    <tr>\n",
       "      <th>2024-08-02</th>\n",
       "      <td>194.766373</td>\n",
       "    </tr>\n",
       "    <tr>\n",
       "      <th>2024-08-05</th>\n",
       "      <td>190.619476</td>\n",
       "    </tr>\n",
       "    <tr>\n",
       "      <th>2024-08-06</th>\n",
       "      <td>195.940018</td>\n",
       "    </tr>\n",
       "    <tr>\n",
       "      <th>2024-08-07</th>\n",
       "      <td>195.998703</td>\n",
       "    </tr>\n",
       "    <tr>\n",
       "      <th>...</th>\n",
       "      <td>...</td>\n",
       "    </tr>\n",
       "    <tr>\n",
       "      <th>2024-12-24</th>\n",
       "      <td>238.440506</td>\n",
       "    </tr>\n",
       "    <tr>\n",
       "      <th>2024-12-26</th>\n",
       "      <td>239.257263</td>\n",
       "    </tr>\n",
       "    <tr>\n",
       "      <th>2024-12-27</th>\n",
       "      <td>237.318726</td>\n",
       "    </tr>\n",
       "    <tr>\n",
       "      <th>2024-12-30</th>\n",
       "      <td>235.498260</td>\n",
       "    </tr>\n",
       "    <tr>\n",
       "      <th>2024-12-31</th>\n",
       "      <td>235.882034</td>\n",
       "    </tr>\n",
       "  </tbody>\n",
       "</table>\n",
       "<p>106 rows × 1 columns</p>\n",
       "</div>"
      ],
      "text/plain": [
       "Ticker             JPM\n",
       "Date                  \n",
       "2024-08-01  203.392670\n",
       "2024-08-02  194.766373\n",
       "2024-08-05  190.619476\n",
       "2024-08-06  195.940018\n",
       "2024-08-07  195.998703\n",
       "...                ...\n",
       "2024-12-24  238.440506\n",
       "2024-12-26  239.257263\n",
       "2024-12-27  237.318726\n",
       "2024-12-30  235.498260\n",
       "2024-12-31  235.882034\n",
       "\n",
       "[106 rows x 1 columns]"
      ]
     },
     "execution_count": 17,
     "metadata": {},
     "output_type": "execute_result"
    }
   ],
   "source": [
    "# import data from yfinace \n",
    "\n",
    "df=yf.download('JPM',start='2024-08-01', end='2025-01-01')\n",
    "df=df['Close']\n",
    "df"
   ]
  },
  {
   "cell_type": "code",
   "execution_count": 36,
   "id": "2c523fdb",
   "metadata": {},
   "outputs": [
    {
     "name": "stderr",
     "output_type": "stream",
     "text": [
      "C:\\Users\\DELL\\AppData\\Local\\Temp\\ipykernel_8028\\481764788.py:1: FutureWarning: YF.download() has changed argument auto_adjust default to True\n",
      "  df = yf.download('JPM', start='2024-01-01', end='2025-01-01')\n",
      "[*********************100%***********************]  1 of 1 completed\n"
     ]
    },
    {
     "data": {
      "text/html": [
       "<div>\n",
       "<style scoped>\n",
       "    .dataframe tbody tr th:only-of-type {\n",
       "        vertical-align: middle;\n",
       "    }\n",
       "\n",
       "    .dataframe tbody tr th {\n",
       "        vertical-align: top;\n",
       "    }\n",
       "\n",
       "    .dataframe thead tr th {\n",
       "        text-align: left;\n",
       "    }\n",
       "\n",
       "    .dataframe thead tr:last-of-type th {\n",
       "        text-align: right;\n",
       "    }\n",
       "</style>\n",
       "<table border=\"1\" class=\"dataframe\">\n",
       "  <thead>\n",
       "    <tr>\n",
       "      <th>Price</th>\n",
       "      <th>Close</th>\n",
       "    </tr>\n",
       "    <tr>\n",
       "      <th>Ticker</th>\n",
       "      <th>JPM</th>\n",
       "    </tr>\n",
       "    <tr>\n",
       "      <th>Date</th>\n",
       "      <th></th>\n",
       "    </tr>\n",
       "  </thead>\n",
       "  <tbody>\n",
       "    <tr>\n",
       "      <th>2024-01-02</th>\n",
       "      <td>165.382812</td>\n",
       "    </tr>\n",
       "    <tr>\n",
       "      <th>2024-01-03</th>\n",
       "      <td>164.661972</td>\n",
       "    </tr>\n",
       "    <tr>\n",
       "      <th>2024-01-04</th>\n",
       "      <td>165.754700</td>\n",
       "    </tr>\n",
       "    <tr>\n",
       "      <th>2024-01-05</th>\n",
       "      <td>166.586334</td>\n",
       "    </tr>\n",
       "    <tr>\n",
       "      <th>2024-01-08</th>\n",
       "      <td>166.344574</td>\n",
       "    </tr>\n",
       "    <tr>\n",
       "      <th>...</th>\n",
       "      <td>...</td>\n",
       "    </tr>\n",
       "    <tr>\n",
       "      <th>2024-12-24</th>\n",
       "      <td>238.440521</td>\n",
       "    </tr>\n",
       "    <tr>\n",
       "      <th>2024-12-26</th>\n",
       "      <td>239.257263</td>\n",
       "    </tr>\n",
       "    <tr>\n",
       "      <th>2024-12-27</th>\n",
       "      <td>237.318710</td>\n",
       "    </tr>\n",
       "    <tr>\n",
       "      <th>2024-12-30</th>\n",
       "      <td>235.498260</td>\n",
       "    </tr>\n",
       "    <tr>\n",
       "      <th>2024-12-31</th>\n",
       "      <td>235.882034</td>\n",
       "    </tr>\n",
       "  </tbody>\n",
       "</table>\n",
       "<p>252 rows × 1 columns</p>\n",
       "</div>"
      ],
      "text/plain": [
       "Price            Close\n",
       "Ticker             JPM\n",
       "Date                  \n",
       "2024-01-02  165.382812\n",
       "2024-01-03  164.661972\n",
       "2024-01-04  165.754700\n",
       "2024-01-05  166.586334\n",
       "2024-01-08  166.344574\n",
       "...                ...\n",
       "2024-12-24  238.440521\n",
       "2024-12-26  239.257263\n",
       "2024-12-27  237.318710\n",
       "2024-12-30  235.498260\n",
       "2024-12-31  235.882034\n",
       "\n",
       "[252 rows x 1 columns]"
      ]
     },
     "execution_count": 36,
     "metadata": {},
     "output_type": "execute_result"
    }
   ],
   "source": [
    "df = yf.download('JPM', start='2024-01-01', end='2025-01-01')\n",
    "\n",
    "df = df[['Close']]\n",
    "\n",
    "\n",
    "\n",
    "df \n"
   ]
  },
  {
   "cell_type": "code",
   "execution_count": 37,
   "id": "35bf7190",
   "metadata": {},
   "outputs": [],
   "source": [
    "# calculate daily return\n",
    "\n",
    "df['returns']=df.pct_change()\n",
    "\n",
    "df= df.dropna()\n",
    "\n",
    "# set lemda value for EWMA model \n",
    "\n",
    "lamda= 0.94\n",
    "\n"
   ]
  },
  {
   "cell_type": "code",
   "execution_count": 41,
   "id": "ec70bf91",
   "metadata": {},
   "outputs": [
    {
     "name": "stderr",
     "output_type": "stream",
     "text": [
      "C:\\Users\\DELL\\AppData\\Local\\Temp\\ipykernel_8028\\1447613761.py:8: SettingWithCopyWarning: \n",
      "A value is trying to be set on a copy of a slice from a DataFrame.\n",
      "Try using .loc[row_indexer,col_indexer] = value instead\n",
      "\n",
      "See the caveats in the documentation: https://pandas.pydata.org/pandas-docs/stable/user_guide/indexing.html#returning-a-view-versus-a-copy\n",
      "  df['ewma_vol'] = np.sqrt(ewma_var)  # convert variance to volatility\n"
     ]
    },
    {
     "data": {
      "text/plain": [
       "0.014839785511052694"
      ]
     },
     "execution_count": 41,
     "metadata": {},
     "output_type": "execute_result"
    }
   ],
   "source": [
    "ewma_var = []\n",
    "var_t = df['returns'].var()  # Initial variance\n",
    "\n",
    "for ret in df['returns']:\n",
    "    var_t = lamda * var_t + (1 - lamda) * (ret ** 2)  # update var_t\n",
    "    ewma_var.append(var_t)\n",
    "\n",
    "df['ewma_vol'] = np.sqrt(ewma_var)  # convert variance to volatility\n",
    "latest_daily_vol = df['ewma_vol'].iloc[-1]\n",
    "\n",
    "latest_daily_vol\n"
   ]
  },
  {
   "cell_type": "code",
   "execution_count": 39,
   "id": "a0b9afb3",
   "metadata": {},
   "outputs": [
    {
     "name": "stderr",
     "output_type": "stream",
     "text": [
      "C:\\Users\\DELL\\AppData\\Local\\Temp\\ipykernel_8028\\2270905487.py:15: SettingWithCopyWarning: \n",
      "A value is trying to be set on a copy of a slice from a DataFrame.\n",
      "Try using .loc[row_indexer,col_indexer] = value instead\n",
      "\n",
      "See the caveats in the documentation: https://pandas.pydata.org/pandas-docs/stable/user_guide/indexing.html#returning-a-view-versus-a-copy\n",
      "  df['ewma_vol'] = np.sqrt(ewma_var)\n"
     ]
    },
    {
     "data": {
      "text/plain": [
       "0.01436954737061098"
      ]
     },
     "execution_count": 39,
     "metadata": {},
     "output_type": "execute_result"
    }
   ],
   "source": [
    "# initialize variance and calculate EWMA \n",
    "\n",
    "ewma_var=[]\n",
    "var_t= df['returns'].var()\n",
    "\n",
    "for ret in df['returns']:\n",
    "    variance_t_plus1 = lamda*var_t + (1-lamda)* (ret**2)\n",
    "    ewma_var.append(variance_t_plus1)\n",
    "\n",
    "\n",
    "\n",
    "\n",
    "# Volatility = sqrt(variance)\n",
    "\n",
    "df['ewma_vol'] = np.sqrt(ewma_var)\n",
    "\n",
    "\n",
    "\n",
    "# predicted volatility \n",
    "\n",
    "latest_daily_vol = df['ewma_vol'].iloc[-1]  # predicted volatility\n",
    "# EWMA can only be used for 1-day prediction\n",
    "latest_daily_vol\n",
    "\n",
    "\n"
   ]
  },
  {
   "cell_type": "code",
   "execution_count": 40,
   "id": "2611bfc1",
   "metadata": {},
   "outputs": [
    {
     "name": "stderr",
     "output_type": "stream",
     "text": [
      "C:\\Users\\DELL\\AppData\\Local\\Temp\\ipykernel_8028\\779457935.py:5: FutureWarning: YF.download() has changed argument auto_adjust default to True\n",
      "  real_df = yf.download('JPM', start='2025-01-01', end='2025-01-04')\n",
      "[*********************100%***********************]  1 of 1 completed"
     ]
    },
    {
     "name": "stderr",
     "output_type": "stream",
     "text": [
      "\n"
     ]
    },
    {
     "data": {
      "text/plain": [
       "0.01366670745715104"
      ]
     },
     "execution_count": 40,
     "metadata": {},
     "output_type": "execute_result"
    }
   ],
   "source": [
    "# EWMA volatility predicted on 2024-12-31\n",
    "forecasted_vol = df['ewma_vol'].iloc[-1]  # for 2025-01-02\n",
    "\n",
    "# Get realized return on 2025-01-02\n",
    "real_df = yf.download('JPM', start='2025-01-01', end='2025-01-04')\n",
    "real_df['returns'] = real_df['Close'].pct_change()\n",
    "real_df = real_df.dropna()\n",
    "\n",
    "realized_return = real_df['returns'].iloc[0]  # return on 2025-01-02\n",
    "realized_vol = abs(realized_return)  # one-day realized volatility estimate\n",
    "\n",
    "\n",
    "realized_vol\n"
   ]
  }
 ],
 "metadata": {
  "kernelspec": {
   "display_name": "regressionmode",
   "language": "python",
   "name": "python3"
  },
  "language_info": {
   "codemirror_mode": {
    "name": "ipython",
    "version": 3
   },
   "file_extension": ".py",
   "mimetype": "text/x-python",
   "name": "python",
   "nbconvert_exporter": "python",
   "pygments_lexer": "ipython3",
   "version": "3.11.0"
  }
 },
 "nbformat": 4,
 "nbformat_minor": 5
}
