{
 "cells": [
  {
   "cell_type": "markdown",
   "id": "7e511044",
   "metadata": {},
   "source": [
    "# volatility model using ARCH , GARCH and EWMA #"
   ]
  },
  {
   "cell_type": "code",
   "execution_count": 117,
   "id": "edcf9a15",
   "metadata": {},
   "outputs": [],
   "source": [
    "# import imp lib \n",
    "\n",
    "import yfinance as yf \n",
    "import numpy as np \n",
    "import pandas as pd \n",
    "\n"
   ]
  },
  {
   "cell_type": "code",
   "execution_count": 143,
   "id": "ae0c6387",
   "metadata": {},
   "outputs": [
    {
     "name": "stderr",
     "output_type": "stream",
     "text": [
      "C:\\Users\\DELL\\AppData\\Local\\Temp\\ipykernel_8028\\2842042311.py:3: FutureWarning: YF.download() has changed argument auto_adjust default to True\n",
      "  df=yf.download('JPM',start='2015-01-01', end='2025-01-01')\n",
      "[*********************100%***********************]  1 of 1 completed\n"
     ]
    },
    {
     "data": {
      "text/html": [
       "<div>\n",
       "<style scoped>\n",
       "    .dataframe tbody tr th:only-of-type {\n",
       "        vertical-align: middle;\n",
       "    }\n",
       "\n",
       "    .dataframe tbody tr th {\n",
       "        vertical-align: top;\n",
       "    }\n",
       "\n",
       "    .dataframe thead th {\n",
       "        text-align: right;\n",
       "    }\n",
       "</style>\n",
       "<table border=\"1\" class=\"dataframe\">\n",
       "  <thead>\n",
       "    <tr style=\"text-align: right;\">\n",
       "      <th>Ticker</th>\n",
       "      <th>JPM</th>\n",
       "    </tr>\n",
       "    <tr>\n",
       "      <th>Date</th>\n",
       "      <th></th>\n",
       "    </tr>\n",
       "  </thead>\n",
       "  <tbody>\n",
       "    <tr>\n",
       "      <th>2015-01-02</th>\n",
       "      <td>46.948090</td>\n",
       "    </tr>\n",
       "    <tr>\n",
       "      <th>2015-01-05</th>\n",
       "      <td>45.490574</td>\n",
       "    </tr>\n",
       "    <tr>\n",
       "      <th>2015-01-06</th>\n",
       "      <td>44.311050</td>\n",
       "    </tr>\n",
       "    <tr>\n",
       "      <th>2015-01-07</th>\n",
       "      <td>44.378658</td>\n",
       "    </tr>\n",
       "    <tr>\n",
       "      <th>2015-01-08</th>\n",
       "      <td>45.370358</td>\n",
       "    </tr>\n",
       "    <tr>\n",
       "      <th>...</th>\n",
       "      <td>...</td>\n",
       "    </tr>\n",
       "    <tr>\n",
       "      <th>2024-12-24</th>\n",
       "      <td>238.440521</td>\n",
       "    </tr>\n",
       "    <tr>\n",
       "      <th>2024-12-26</th>\n",
       "      <td>239.257263</td>\n",
       "    </tr>\n",
       "    <tr>\n",
       "      <th>2024-12-27</th>\n",
       "      <td>237.318710</td>\n",
       "    </tr>\n",
       "    <tr>\n",
       "      <th>2024-12-30</th>\n",
       "      <td>235.498260</td>\n",
       "    </tr>\n",
       "    <tr>\n",
       "      <th>2024-12-31</th>\n",
       "      <td>235.882034</td>\n",
       "    </tr>\n",
       "  </tbody>\n",
       "</table>\n",
       "<p>2516 rows × 1 columns</p>\n",
       "</div>"
      ],
      "text/plain": [
       "Ticker             JPM\n",
       "Date                  \n",
       "2015-01-02   46.948090\n",
       "2015-01-05   45.490574\n",
       "2015-01-06   44.311050\n",
       "2015-01-07   44.378658\n",
       "2015-01-08   45.370358\n",
       "...                ...\n",
       "2024-12-24  238.440521\n",
       "2024-12-26  239.257263\n",
       "2024-12-27  237.318710\n",
       "2024-12-30  235.498260\n",
       "2024-12-31  235.882034\n",
       "\n",
       "[2516 rows x 1 columns]"
      ]
     },
     "execution_count": 143,
     "metadata": {},
     "output_type": "execute_result"
    }
   ],
   "source": [
    "# import data from yfinace \n",
    "\n",
    "df=yf.download('JPM',start='2015-01-01', end='2025-01-01')\n",
    "df=df['Close']\n",
    "df"
   ]
  },
  {
   "cell_type": "markdown",
   "id": "cf764721",
   "metadata": {},
   "source": [
    "# ARCH"
   ]
  },
  {
   "cell_type": "code",
   "execution_count": 144,
   "id": "116d202d",
   "metadata": {},
   "outputs": [],
   "source": [
    "from arch import arch_model"
   ]
  },
  {
   "cell_type": "code",
   "execution_count": 145,
   "id": "1bed74f5",
   "metadata": {},
   "outputs": [
    {
     "data": {
      "text/plain": [
       "Date\n",
       "2015-01-05   -3.104526\n",
       "2015-01-06   -2.592896\n",
       "2015-01-07    0.152576\n",
       "2015-01-08    2.234631\n",
       "2015-01-09   -1.738663\n",
       "                ...   \n",
       "2024-12-24    1.644367\n",
       "2024-12-26    0.342535\n",
       "2024-12-27   -0.810238\n",
       "2024-12-30   -0.767091\n",
       "2024-12-31    0.162962\n",
       "Name: returns, Length: 2515, dtype: float64"
      ]
     },
     "execution_count": 145,
     "metadata": {},
     "output_type": "execute_result"
    }
   ],
   "source": [
    "# calculate daily return\n",
    "\n",
    "df['returns']=df.pct_change()*100\n",
    "\n",
    "returns= df['returns'].dropna()\n",
    "returns"
   ]
  },
  {
   "cell_type": "code",
   "execution_count": 146,
   "id": "e3404b43",
   "metadata": {},
   "outputs": [
    {
     "data": {
      "text/html": [
       "<table class=\"simpletable\">\n",
       "<caption>Constant Mean - ARCH Model Results</caption>\n",
       "<tr>\n",
       "  <th>Dep. Variable:</th>       <td>returns</td>      <th>  R-squared:         </th>  <td>   0.000</td> \n",
       "</tr>\n",
       "<tr>\n",
       "  <th>Mean Model:</th>       <td>Constant Mean</td>   <th>  Adj. R-squared:    </th>  <td>   0.000</td> \n",
       "</tr>\n",
       "<tr>\n",
       "  <th>Vol Model:</th>            <td>ARCH</td>        <th>  Log-Likelihood:    </th> <td>  -4637.96</td>\n",
       "</tr>\n",
       "<tr>\n",
       "  <th>Distribution:</th>        <td>Normal</td>       <th>  AIC:               </th> <td>   9281.91</td>\n",
       "</tr>\n",
       "<tr>\n",
       "  <th>Method:</th>        <td>Maximum Likelihood</td> <th>  BIC:               </th> <td>   9299.40</td>\n",
       "</tr>\n",
       "<tr>\n",
       "  <th></th>                        <td></td>          <th>  No. Observations:  </th>    <td>2515</td>   \n",
       "</tr>\n",
       "<tr>\n",
       "  <th>Date:</th>           <td>Mon, Jul 21 2025</td>  <th>  Df Residuals:      </th>    <td>2514</td>   \n",
       "</tr>\n",
       "<tr>\n",
       "  <th>Time:</th>               <td>19:35:13</td>      <th>  Df Model:          </th>      <td>1</td>    \n",
       "</tr>\n",
       "</table>\n",
       "<table class=\"simpletable\">\n",
       "<caption>Mean Model</caption>\n",
       "<tr>\n",
       "   <td></td>     <th>coef</th>     <th>std err</th>      <th>t</th>       <th>P>|t|</th>    <th>95.0% Conf. Int.</th>  \n",
       "</tr>\n",
       "<tr>\n",
       "  <th>mu</th> <td>    0.1260</td> <td>3.305e-02</td> <td>    3.811</td> <td>1.382e-04</td> <td>[6.119e-02,  0.191]</td>\n",
       "</tr>\n",
       "</table>\n",
       "<table class=\"simpletable\">\n",
       "<caption>Volatility Model</caption>\n",
       "<tr>\n",
       "      <td></td>        <th>coef</th>     <th>std err</th>      <th>t</th>       <th>P>|t|</th>   <th>95.0% Conf. Int.</th> \n",
       "</tr>\n",
       "<tr>\n",
       "  <th>omega</th>    <td>    1.6656</td> <td>    0.121</td> <td>   13.743</td> <td>5.625e-43</td> <td>[  1.428,  1.903]</td>\n",
       "</tr>\n",
       "<tr>\n",
       "  <th>alpha[1]</th> <td>    0.4211</td> <td>6.281e-02</td> <td>    6.704</td> <td>2.025e-11</td> <td>[  0.298,  0.544]</td>\n",
       "</tr>\n",
       "</table><br/><br/>Covariance estimator: robust"
      ],
      "text/latex": [
       "\\begin{center}\n",
       "\\begin{tabular}{lclc}\n",
       "\\toprule\n",
       "\\textbf{Dep. Variable:} &      returns       & \\textbf{  R-squared:         } &     0.000   \\\\\n",
       "\\textbf{Mean Model:}    &   Constant Mean    & \\textbf{  Adj. R-squared:    } &     0.000   \\\\\n",
       "\\textbf{Vol Model:}     &        ARCH        & \\textbf{  Log-Likelihood:    } &   -4637.96  \\\\\n",
       "\\textbf{Distribution:}  &       Normal       & \\textbf{  AIC:               } &    9281.91  \\\\\n",
       "\\textbf{Method:}        & Maximum Likelihood & \\textbf{  BIC:               } &    9299.40  \\\\\n",
       "\\textbf{}               &                    & \\textbf{  No. Observations:  } &    2515     \\\\\n",
       "\\textbf{Date:}          &  Mon, Jul 21 2025  & \\textbf{  Df Residuals:      } &    2514     \\\\\n",
       "\\textbf{Time:}          &      19:35:13      & \\textbf{  Df Model:          } &     1       \\\\\n",
       "\\bottomrule\n",
       "\\end{tabular}\n",
       "\\begin{tabular}{lccccc}\n",
       "            & \\textbf{coef} & \\textbf{std err} & \\textbf{t} & \\textbf{P$> |$t$|$} & \\textbf{95.0\\% Conf. Int.}  \\\\\n",
       "\\midrule\n",
       "\\textbf{mu} &       0.1260  &    3.305e-02     &     3.811  &      1.382e-04       &    [6.119e-02,  0.191]      \\\\\n",
       "                  & \\textbf{coef} & \\textbf{std err} & \\textbf{t} & \\textbf{P$> |$t$|$} & \\textbf{95.0\\% Conf. Int.}  \\\\\n",
       "\\midrule\n",
       "\\textbf{omega}    &       1.6656  &        0.121     &    13.743  &      5.625e-43       &     [  1.428,  1.903]       \\\\\n",
       "\\textbf{alpha[1]} &       0.4211  &    6.281e-02     &     6.704  &      2.025e-11       &     [  0.298,  0.544]       \\\\\n",
       "\\bottomrule\n",
       "\\end{tabular}\n",
       "%\\caption{Constant Mean - ARCH Model Results}\n",
       "\\end{center}\n",
       "\n",
       "Covariance estimator: robust"
      ],
      "text/plain": [
       "<class 'statsmodels.iolib.summary.Summary'>\n",
       "\"\"\"\n",
       "                      Constant Mean - ARCH Model Results                      \n",
       "==============================================================================\n",
       "Dep. Variable:                returns   R-squared:                       0.000\n",
       "Mean Model:             Constant Mean   Adj. R-squared:                  0.000\n",
       "Vol Model:                       ARCH   Log-Likelihood:               -4637.96\n",
       "Distribution:                  Normal   AIC:                           9281.91\n",
       "Method:            Maximum Likelihood   BIC:                           9299.40\n",
       "                                        No. Observations:                 2515\n",
       "Date:                Mon, Jul 21 2025   Df Residuals:                     2514\n",
       "Time:                        19:35:13   Df Model:                            1\n",
       "                                Mean Model                                \n",
       "==========================================================================\n",
       "                 coef    std err          t      P>|t|    95.0% Conf. Int.\n",
       "--------------------------------------------------------------------------\n",
       "mu             0.1260  3.305e-02      3.811  1.382e-04 [6.119e-02,  0.191]\n",
       "                            Volatility Model                            \n",
       "========================================================================\n",
       "                 coef    std err          t      P>|t|  95.0% Conf. Int.\n",
       "------------------------------------------------------------------------\n",
       "omega          1.6656      0.121     13.743  5.625e-43 [  1.428,  1.903]\n",
       "alpha[1]       0.4211  6.281e-02      6.704  2.025e-11 [  0.298,  0.544]\n",
       "========================================================================\n",
       "\n",
       "Covariance estimator: robust\n",
       "\"\"\""
      ]
     },
     "execution_count": 146,
     "metadata": {},
     "output_type": "execute_result"
    }
   ],
   "source": [
    "# create and fit ARCH model\n",
    "\n",
    "model=arch_model(returns, vol='ARCH', p=1)\n",
    "results=model.fit(disp='off')\n",
    "\n",
    "# summary \n",
    "\n",
    "results.summary()"
   ]
  },
  {
   "cell_type": "markdown",
   "id": "f332d672",
   "metadata": {},
   "source": [
    "analysis \n",
    "\n",
    "mu- 0.1260   => avg daily return \n",
    "\n",
    "omega =\t1.6656  => the long run base level of variance \n",
    "\n",
    "alpha[1] = 0.4211  => how much yesterdays squared shock impacts todays variance "
   ]
  },
  {
   "cell_type": "code",
   "execution_count": 147,
   "id": "4a096365",
   "metadata": {},
   "outputs": [
    {
     "data": {
      "text/html": [
       "<div>\n",
       "<style scoped>\n",
       "    .dataframe tbody tr th:only-of-type {\n",
       "        vertical-align: middle;\n",
       "    }\n",
       "\n",
       "    .dataframe tbody tr th {\n",
       "        vertical-align: top;\n",
       "    }\n",
       "\n",
       "    .dataframe thead th {\n",
       "        text-align: right;\n",
       "    }\n",
       "</style>\n",
       "<table border=\"1\" class=\"dataframe\">\n",
       "  <thead>\n",
       "    <tr style=\"text-align: right;\">\n",
       "      <th></th>\n",
       "      <th>h.1</th>\n",
       "      <th>h.2</th>\n",
       "      <th>h.3</th>\n",
       "      <th>h.4</th>\n",
       "      <th>h.5</th>\n",
       "    </tr>\n",
       "    <tr>\n",
       "      <th>Date</th>\n",
       "      <th></th>\n",
       "      <th></th>\n",
       "      <th></th>\n",
       "      <th></th>\n",
       "      <th></th>\n",
       "    </tr>\n",
       "  </thead>\n",
       "  <tbody>\n",
       "    <tr>\n",
       "      <th>2024-12-31</th>\n",
       "      <td>1.290793</td>\n",
       "      <td>1.538572</td>\n",
       "      <td>1.631695</td>\n",
       "      <td>1.669357</td>\n",
       "      <td>1.684965</td>\n",
       "    </tr>\n",
       "  </tbody>\n",
       "</table>\n",
       "</div>"
      ],
      "text/plain": [
       "                 h.1       h.2       h.3       h.4       h.5\n",
       "Date                                                        \n",
       "2024-12-31  1.290793  1.538572  1.631695  1.669357  1.684965"
      ]
     },
     "execution_count": 147,
     "metadata": {},
     "output_type": "execute_result"
    }
   ],
   "source": [
    "# forecast 5 days ahead \n",
    "\n",
    "forecast= results.forecast(horizon=5)\n",
    "predicted_variance = forecast.variance\n",
    "\n",
    "\n",
    "# volatility = var sqroot\n",
    "\n",
    "predicted_volatility= predicted_variance**0.5\n",
    "predicted_volatility\n",
    "\n",
    "\n",
    "\n",
    "\n"
   ]
  },
  {
   "cell_type": "code",
   "execution_count": 148,
   "id": "885c2ada",
   "metadata": {},
   "outputs": [
    {
     "data": {
      "text/plain": [
       "1.5562544"
      ]
     },
     "execution_count": 148,
     "metadata": {},
     "output_type": "execute_result"
    }
   ],
   "source": [
    "# calculate avg of predicted volaitilty \n",
    "\n",
    "predicted_volatility=[1.479268,\t1.567023,\t1.577429,\t1.578698,\t1.578854]\n",
    "predicted_avg_volatility= sum(predicted_volatility)/len(predicted_volatility)\n",
    "predicted_avg_volatility"
   ]
  },
  {
   "cell_type": "code",
   "execution_count": 149,
   "id": "c9a83a21",
   "metadata": {},
   "outputs": [
    {
     "name": "stderr",
     "output_type": "stream",
     "text": [
      "C:\\Users\\DELL\\AppData\\Local\\Temp\\ipykernel_8028\\2524937218.py:8: FutureWarning: YF.download() has changed argument auto_adjust default to True\n",
      "  real_df= yf.download('JPM', start_date, end_date)\n",
      "[*********************100%***********************]  1 of 1 completed\n"
     ]
    },
    {
     "data": {
      "text/plain": [
       "1.691952213933136"
      ]
     },
     "execution_count": 149,
     "metadata": {},
     "output_type": "execute_result"
    }
   ],
   "source": [
    "# to compare forecasted volatility with real \n",
    "\n",
    "start_date= pd.to_datetime('2024-12-31')\n",
    "end_date = pd.to_datetime('2025-01-09')\n",
    "\n",
    "\n",
    "\n",
    "real_df= yf.download('JPM', start_date, end_date)\n",
    "real_df['retruns']= real_df['Close'].pct_change()*100\n",
    "real_df = real_df.dropna()\n",
    "\n",
    "realised_vol = real_df['retruns'].std()*np.sqrt(5)    # since we are predicting for next five day so sqrt (5)\n",
    "realised_vol"
   ]
  },
  {
   "cell_type": "code",
   "execution_count": 150,
   "id": "61ff8b0c",
   "metadata": {},
   "outputs": [
    {
     "name": "stdout",
     "output_type": "stream",
     "text": [
      "ARCH model pred. volt. 1.5562544\n",
      "acutual volatility 1.691952213933136\n"
     ]
    }
   ],
   "source": [
    "print(\"ARCH model pred. volt.\", predicted_avg_volatility)\n",
    "print(\"acutual volatility\", realised_vol)"
   ]
  },
  {
   "cell_type": "markdown",
   "id": "933a61ab",
   "metadata": {},
   "source": [
    "# GARCH"
   ]
  },
  {
   "cell_type": "code",
   "execution_count": 151,
   "id": "0937b5df",
   "metadata": {},
   "outputs": [],
   "source": [
    "from arch import arch_model"
   ]
  },
  {
   "cell_type": "code",
   "execution_count": 152,
   "id": "579649f3",
   "metadata": {},
   "outputs": [
    {
     "data": {
      "text/html": [
       "<table class=\"simpletable\">\n",
       "<caption>Constant Mean - GARCH Model Results</caption>\n",
       "<tr>\n",
       "  <th>Dep. Variable:</th>       <td>returns</td>      <th>  R-squared:         </th>  <td>   0.000</td> \n",
       "</tr>\n",
       "<tr>\n",
       "  <th>Mean Model:</th>       <td>Constant Mean</td>   <th>  Adj. R-squared:    </th>  <td>   0.000</td> \n",
       "</tr>\n",
       "<tr>\n",
       "  <th>Vol Model:</th>            <td>GARCH</td>       <th>  Log-Likelihood:    </th> <td>  -4538.83</td>\n",
       "</tr>\n",
       "<tr>\n",
       "  <th>Distribution:</th>        <td>Normal</td>       <th>  AIC:               </th> <td>   9085.66</td>\n",
       "</tr>\n",
       "<tr>\n",
       "  <th>Method:</th>        <td>Maximum Likelihood</td> <th>  BIC:               </th> <td>   9108.98</td>\n",
       "</tr>\n",
       "<tr>\n",
       "  <th></th>                        <td></td>          <th>  No. Observations:  </th>    <td>2515</td>   \n",
       "</tr>\n",
       "<tr>\n",
       "  <th>Date:</th>           <td>Mon, Jul 21 2025</td>  <th>  Df Residuals:      </th>    <td>2514</td>   \n",
       "</tr>\n",
       "<tr>\n",
       "  <th>Time:</th>               <td>19:35:30</td>      <th>  Df Model:          </th>      <td>1</td>    \n",
       "</tr>\n",
       "</table>\n",
       "<table class=\"simpletable\">\n",
       "<caption>Mean Model</caption>\n",
       "<tr>\n",
       "   <td></td>     <th>coef</th>     <th>std err</th>      <th>t</th>       <th>P>|t|</th>    <th>95.0% Conf. Int.</th>  \n",
       "</tr>\n",
       "<tr>\n",
       "  <th>mu</th> <td>    0.1230</td> <td>2.866e-02</td> <td>    4.293</td> <td>1.764e-05</td> <td>[6.686e-02,  0.179]</td>\n",
       "</tr>\n",
       "</table>\n",
       "<table class=\"simpletable\">\n",
       "<caption>Volatility Model</caption>\n",
       "<tr>\n",
       "      <td></td>        <th>coef</th>     <th>std err</th>      <th>t</th>       <th>P>|t|</th>     <th>95.0% Conf. Int.</th>  \n",
       "</tr>\n",
       "<tr>\n",
       "  <th>omega</th>    <td>    0.1765</td> <td>    0.255</td> <td>    0.693</td> <td>    0.488</td>   <td>[ -0.323,  0.676]</td> \n",
       "</tr>\n",
       "<tr>\n",
       "  <th>alpha[1]</th> <td>    0.1222</td> <td>    0.110</td> <td>    1.111</td> <td>    0.267</td> <td>[-9.347e-02,  0.338]</td>\n",
       "</tr>\n",
       "<tr>\n",
       "  <th>beta[1]</th>  <td>    0.8080</td> <td>    0.208</td> <td>    3.887</td> <td>1.017e-04</td>   <td>[  0.401,  1.215]</td> \n",
       "</tr>\n",
       "</table><br/><br/>Covariance estimator: robust"
      ],
      "text/latex": [
       "\\begin{center}\n",
       "\\begin{tabular}{lclc}\n",
       "\\toprule\n",
       "\\textbf{Dep. Variable:} &      returns       & \\textbf{  R-squared:         } &     0.000   \\\\\n",
       "\\textbf{Mean Model:}    &   Constant Mean    & \\textbf{  Adj. R-squared:    } &     0.000   \\\\\n",
       "\\textbf{Vol Model:}     &       GARCH        & \\textbf{  Log-Likelihood:    } &   -4538.83  \\\\\n",
       "\\textbf{Distribution:}  &       Normal       & \\textbf{  AIC:               } &    9085.66  \\\\\n",
       "\\textbf{Method:}        & Maximum Likelihood & \\textbf{  BIC:               } &    9108.98  \\\\\n",
       "\\textbf{}               &                    & \\textbf{  No. Observations:  } &    2515     \\\\\n",
       "\\textbf{Date:}          &  Mon, Jul 21 2025  & \\textbf{  Df Residuals:      } &    2514     \\\\\n",
       "\\textbf{Time:}          &      19:35:30      & \\textbf{  Df Model:          } &     1       \\\\\n",
       "\\bottomrule\n",
       "\\end{tabular}\n",
       "\\begin{tabular}{lccccc}\n",
       "            & \\textbf{coef} & \\textbf{std err} & \\textbf{t} & \\textbf{P$> |$t$|$} & \\textbf{95.0\\% Conf. Int.}  \\\\\n",
       "\\midrule\n",
       "\\textbf{mu} &       0.1230  &    2.866e-02     &     4.293  &      1.764e-05       &    [6.686e-02,  0.179]      \\\\\n",
       "                  & \\textbf{coef} & \\textbf{std err} & \\textbf{t} & \\textbf{P$> |$t$|$} & \\textbf{95.0\\% Conf. Int.}  \\\\\n",
       "\\midrule\n",
       "\\textbf{omega}    &       0.1765  &        0.255     &     0.693  &          0.488       &     [ -0.323,  0.676]       \\\\\n",
       "\\textbf{alpha[1]} &       0.1222  &        0.110     &     1.111  &          0.267       &    [-9.347e-02,  0.338]     \\\\\n",
       "\\textbf{beta[1]}  &       0.8080  &        0.208     &     3.887  &      1.017e-04       &     [  0.401,  1.215]       \\\\\n",
       "\\bottomrule\n",
       "\\end{tabular}\n",
       "%\\caption{Constant Mean - GARCH Model Results}\n",
       "\\end{center}\n",
       "\n",
       "Covariance estimator: robust"
      ],
      "text/plain": [
       "<class 'statsmodels.iolib.summary.Summary'>\n",
       "\"\"\"\n",
       "                     Constant Mean - GARCH Model Results                      \n",
       "==============================================================================\n",
       "Dep. Variable:                returns   R-squared:                       0.000\n",
       "Mean Model:             Constant Mean   Adj. R-squared:                  0.000\n",
       "Vol Model:                      GARCH   Log-Likelihood:               -4538.83\n",
       "Distribution:                  Normal   AIC:                           9085.66\n",
       "Method:            Maximum Likelihood   BIC:                           9108.98\n",
       "                                        No. Observations:                 2515\n",
       "Date:                Mon, Jul 21 2025   Df Residuals:                     2514\n",
       "Time:                        19:35:30   Df Model:                            1\n",
       "                                Mean Model                                \n",
       "==========================================================================\n",
       "                 coef    std err          t      P>|t|    95.0% Conf. Int.\n",
       "--------------------------------------------------------------------------\n",
       "mu             0.1230  2.866e-02      4.293  1.764e-05 [6.686e-02,  0.179]\n",
       "                              Volatility Model                             \n",
       "===========================================================================\n",
       "                 coef    std err          t      P>|t|     95.0% Conf. Int.\n",
       "---------------------------------------------------------------------------\n",
       "omega          0.1765      0.255      0.693      0.488    [ -0.323,  0.676]\n",
       "alpha[1]       0.1222      0.110      1.111      0.267 [-9.347e-02,  0.338]\n",
       "beta[1]        0.8080      0.208      3.887  1.017e-04    [  0.401,  1.215]\n",
       "===========================================================================\n",
       "\n",
       "Covariance estimator: robust\n",
       "\"\"\""
      ]
     },
     "execution_count": 152,
     "metadata": {},
     "output_type": "execute_result"
    }
   ],
   "source": [
    "# create and fit ARCH model\n",
    "\n",
    "model=arch_model(returns, vol='GARCH', p=1 , q=1)\n",
    "results=model.fit(disp='off')\n",
    "\n",
    "# summary \n",
    "\n",
    "results.summary()"
   ]
  },
  {
   "cell_type": "markdown",
   "id": "9ca1155c",
   "metadata": {},
   "source": [
    "mu\t0.1146; estimated avg daily return \n",
    "omega\t0.0220 : the long run base level of variance \n",
    "alpha[1]\t0.0165: how much yesterdays shock affects todays shock\n",
    "beta[1]\t0.9737:  how much yesterdays variance affects todays variance"
   ]
  },
  {
   "cell_type": "code",
   "execution_count": 153,
   "id": "70557bf7",
   "metadata": {},
   "outputs": [
    {
     "data": {
      "text/html": [
       "<div>\n",
       "<style scoped>\n",
       "    .dataframe tbody tr th:only-of-type {\n",
       "        vertical-align: middle;\n",
       "    }\n",
       "\n",
       "    .dataframe tbody tr th {\n",
       "        vertical-align: top;\n",
       "    }\n",
       "\n",
       "    .dataframe thead th {\n",
       "        text-align: right;\n",
       "    }\n",
       "</style>\n",
       "<table border=\"1\" class=\"dataframe\">\n",
       "  <thead>\n",
       "    <tr style=\"text-align: right;\">\n",
       "      <th></th>\n",
       "      <th>h.1</th>\n",
       "      <th>h.2</th>\n",
       "      <th>h.3</th>\n",
       "      <th>h.4</th>\n",
       "      <th>h.5</th>\n",
       "    </tr>\n",
       "    <tr>\n",
       "      <th>Date</th>\n",
       "      <th></th>\n",
       "      <th></th>\n",
       "      <th></th>\n",
       "      <th></th>\n",
       "      <th></th>\n",
       "    </tr>\n",
       "  </thead>\n",
       "  <tbody>\n",
       "    <tr>\n",
       "      <th>2024-12-31</th>\n",
       "      <td>1.290595</td>\n",
       "      <td>1.313729</td>\n",
       "      <td>1.334889</td>\n",
       "      <td>1.354276</td>\n",
       "      <td>1.372065</td>\n",
       "    </tr>\n",
       "  </tbody>\n",
       "</table>\n",
       "</div>"
      ],
      "text/plain": [
       "                 h.1       h.2       h.3       h.4       h.5\n",
       "Date                                                        \n",
       "2024-12-31  1.290595  1.313729  1.334889  1.354276  1.372065"
      ]
     },
     "execution_count": 153,
     "metadata": {},
     "output_type": "execute_result"
    }
   ],
   "source": [
    "# forecast 5 days ahead \n",
    "\n",
    "forecast= results.forecast(horizon=5)\n",
    "predicted_variance = forecast.variance\n",
    "\n",
    "\n",
    "# volatility = var sqroot\n",
    "\n",
    "predicted_volatility= predicted_variance**0.5\n",
    "predicted_volatility\n"
   ]
  },
  {
   "cell_type": "code",
   "execution_count": 129,
   "id": "b207ddea",
   "metadata": {},
   "outputs": [
    {
     "data": {
      "text/plain": [
       "1.6210442"
      ]
     },
     "execution_count": 129,
     "metadata": {},
     "output_type": "execute_result"
    }
   ],
   "source": [
    "# calculate avg of predicted volaitilty \n",
    "\n",
    "predicted_volatility=[\t1.623484,\t1.622253,\t1.621033,\t1.619824,\t1.618627]\n",
    "predicted_avg_volatility= sum(predicted_volatility)/len(predicted_volatility)\n",
    "predicted_avg_volatility"
   ]
  },
  {
   "cell_type": "code",
   "execution_count": 154,
   "id": "095c1801",
   "metadata": {},
   "outputs": [
    {
     "name": "stderr",
     "output_type": "stream",
     "text": [
      "C:\\Users\\DELL\\AppData\\Local\\Temp\\ipykernel_8028\\1245339672.py:8: FutureWarning: YF.download() has changed argument auto_adjust default to True\n",
      "  real_df= yf.download('JPM', start_date, end_date)\n",
      "[*********************100%***********************]  1 of 1 completed\n"
     ]
    },
    {
     "data": {
      "text/plain": [
       "1.691952213933136"
      ]
     },
     "execution_count": 154,
     "metadata": {},
     "output_type": "execute_result"
    }
   ],
   "source": [
    "# to compare forecasted volatility with real \n",
    "\n",
    "start_date= pd.to_datetime('2024-12-31')\n",
    "end_date = pd.to_datetime('2025-01-09')\n",
    "\n",
    "\n",
    "\n",
    "real_df= yf.download('JPM', start_date, end_date)\n",
    "real_df['retruns']= real_df['Close'].pct_change()*100\n",
    "real_df = real_df.dropna()\n",
    "\n",
    "realised_vol = real_df['retruns'].std()*np.sqrt(5)\n",
    "realised_vol"
   ]
  },
  {
   "cell_type": "code",
   "execution_count": 155,
   "id": "5d7af026",
   "metadata": {},
   "outputs": [
    {
     "name": "stdout",
     "output_type": "stream",
     "text": [
      "GARCH model pred. volt. 1.5562544\n",
      "acutual volatility 1.691952213933136\n"
     ]
    }
   ],
   "source": [
    "print(\"GARCH model pred. volt.\", predicted_avg_volatility)\n",
    "print(\"acutual volatility\", realised_vol)"
   ]
  },
  {
   "cell_type": "markdown",
   "id": "6495fd14",
   "metadata": {},
   "source": [
    "# EWMA "
   ]
  },
  {
   "cell_type": "code",
   "execution_count": 156,
   "id": "2c523fdb",
   "metadata": {},
   "outputs": [
    {
     "name": "stderr",
     "output_type": "stream",
     "text": [
      "C:\\Users\\DELL\\AppData\\Local\\Temp\\ipykernel_8028\\2397891173.py:3: FutureWarning: YF.download() has changed argument auto_adjust default to True\n",
      "  df = yf.download('JPM', start='2015-01-01', end='2025-01-01')\n",
      "[*********************100%***********************]  1 of 1 completed\n"
     ]
    },
    {
     "data": {
      "text/html": [
       "<div>\n",
       "<style scoped>\n",
       "    .dataframe tbody tr th:only-of-type {\n",
       "        vertical-align: middle;\n",
       "    }\n",
       "\n",
       "    .dataframe tbody tr th {\n",
       "        vertical-align: top;\n",
       "    }\n",
       "\n",
       "    .dataframe thead tr th {\n",
       "        text-align: left;\n",
       "    }\n",
       "\n",
       "    .dataframe thead tr:last-of-type th {\n",
       "        text-align: right;\n",
       "    }\n",
       "</style>\n",
       "<table border=\"1\" class=\"dataframe\">\n",
       "  <thead>\n",
       "    <tr>\n",
       "      <th>Price</th>\n",
       "      <th>Close</th>\n",
       "    </tr>\n",
       "    <tr>\n",
       "      <th>Ticker</th>\n",
       "      <th>JPM</th>\n",
       "    </tr>\n",
       "    <tr>\n",
       "      <th>Date</th>\n",
       "      <th></th>\n",
       "    </tr>\n",
       "  </thead>\n",
       "  <tbody>\n",
       "    <tr>\n",
       "      <th>2015-01-02</th>\n",
       "      <td>46.948090</td>\n",
       "    </tr>\n",
       "    <tr>\n",
       "      <th>2015-01-05</th>\n",
       "      <td>45.490574</td>\n",
       "    </tr>\n",
       "    <tr>\n",
       "      <th>2015-01-06</th>\n",
       "      <td>44.311050</td>\n",
       "    </tr>\n",
       "    <tr>\n",
       "      <th>2015-01-07</th>\n",
       "      <td>44.378658</td>\n",
       "    </tr>\n",
       "    <tr>\n",
       "      <th>2015-01-08</th>\n",
       "      <td>45.370358</td>\n",
       "    </tr>\n",
       "    <tr>\n",
       "      <th>...</th>\n",
       "      <td>...</td>\n",
       "    </tr>\n",
       "    <tr>\n",
       "      <th>2024-12-24</th>\n",
       "      <td>238.440521</td>\n",
       "    </tr>\n",
       "    <tr>\n",
       "      <th>2024-12-26</th>\n",
       "      <td>239.257263</td>\n",
       "    </tr>\n",
       "    <tr>\n",
       "      <th>2024-12-27</th>\n",
       "      <td>237.318710</td>\n",
       "    </tr>\n",
       "    <tr>\n",
       "      <th>2024-12-30</th>\n",
       "      <td>235.498260</td>\n",
       "    </tr>\n",
       "    <tr>\n",
       "      <th>2024-12-31</th>\n",
       "      <td>235.882034</td>\n",
       "    </tr>\n",
       "  </tbody>\n",
       "</table>\n",
       "<p>2516 rows × 1 columns</p>\n",
       "</div>"
      ],
      "text/plain": [
       "Price            Close\n",
       "Ticker             JPM\n",
       "Date                  \n",
       "2015-01-02   46.948090\n",
       "2015-01-05   45.490574\n",
       "2015-01-06   44.311050\n",
       "2015-01-07   44.378658\n",
       "2015-01-08   45.370358\n",
       "...                ...\n",
       "2024-12-24  238.440521\n",
       "2024-12-26  239.257263\n",
       "2024-12-27  237.318710\n",
       "2024-12-30  235.498260\n",
       "2024-12-31  235.882034\n",
       "\n",
       "[2516 rows x 1 columns]"
      ]
     },
     "execution_count": 156,
     "metadata": {},
     "output_type": "execute_result"
    }
   ],
   "source": [
    "#data collection\n",
    "\n",
    "df = yf.download('JPM', start='2015-01-01', end='2025-01-01')\n",
    "\n",
    "df = df[['Close']]\n",
    "\n",
    "\n",
    "\n",
    "df \n"
   ]
  },
  {
   "cell_type": "code",
   "execution_count": 157,
   "id": "35bf7190",
   "metadata": {},
   "outputs": [],
   "source": [
    "# calculate daily return\n",
    "\n",
    "df['returns']=df.pct_change()\n",
    "\n",
    "df= df.dropna()\n",
    "\n",
    "# set lemda value for EWMA model \n",
    "\n",
    "lamda= 0.94\n",
    "\n"
   ]
  },
  {
   "cell_type": "code",
   "execution_count": 158,
   "id": "4f441337",
   "metadata": {},
   "outputs": [
    {
     "name": "stderr",
     "output_type": "stream",
     "text": [
      "C:\\Users\\DELL\\AppData\\Local\\Temp\\ipykernel_8028\\1078368735.py:12: SettingWithCopyWarning: \n",
      "A value is trying to be set on a copy of a slice from a DataFrame.\n",
      "Try using .loc[row_indexer,col_indexer] = value instead\n",
      "\n",
      "See the caveats in the documentation: https://pandas.pydata.org/pandas-docs/stable/user_guide/indexing.html#returning-a-view-versus-a-copy\n",
      "  df['ewma_vol'] = np.sqrt(ewma_var)\n"
     ]
    },
    {
     "data": {
      "text/plain": [
       "0.016721007800705564"
      ]
     },
     "execution_count": 158,
     "metadata": {},
     "output_type": "execute_result"
    }
   ],
   "source": [
    "# Step 4: Initialize variance and calculate EWMA\n",
    "ewma_var = []\n",
    "var_t = df['returns'].var()\n",
    "\n",
    "for ret in df['returns']:\n",
    " variance_tplus1 = lamda*var_t + (1-lamda)* (ret**2)\n",
    " ewma_var.append(variance_tplus1)\n",
    "\n",
    "\n",
    "\n",
    "# Volatility = sqrt(variance)\n",
    "df['ewma_vol'] = np.sqrt(ewma_var)\n",
    "\n",
    "\n",
    "# Step 5: Predicted Volatility\n",
    "latest_daily_vol = df['ewma_vol'].iloc[-1] # predicted volatility\n",
    "latest_daily_vol\n",
    "\n",
    "\n",
    "# EWMA can only be used for 1 day prediction\n"
   ]
  },
  {
   "cell_type": "code",
   "execution_count": 159,
   "id": "8967e710",
   "metadata": {},
   "outputs": [
    {
     "name": "stderr",
     "output_type": "stream",
     "text": [
      "C:\\Users\\DELL\\AppData\\Local\\Temp\\ipykernel_8028\\1437514564.py:6: FutureWarning: YF.download() has changed argument auto_adjust default to True\n",
      "  real_df = yf.download('JPM', start_date, end_date)\n",
      "[*********************100%***********************]  1 of 1 completed\n"
     ]
    },
    {
     "data": {
      "text/plain": [
       "Date\n",
       "2025-01-02    0.120973\n",
       "Name: returns, dtype: float64"
      ]
     },
     "execution_count": 159,
     "metadata": {},
     "output_type": "execute_result"
    }
   ],
   "source": [
    "# Step 6: Get the data and calculate realized volatility\n",
    "\n",
    "start_date = pd.to_datetime('2024-12-31')\n",
    "end_date = pd.to_datetime('2025-01-03') # buffer for weekends and holiday\n",
    "\n",
    "real_df = yf.download('JPM', start_date, end_date)\n",
    "real_df['returns'] = real_df['Close'].pct_change()*100\n",
    "real_df = real_df.dropna()\n",
    "\n",
    "realized_vol = real_df['returns']\n",
    "realized_vol"
   ]
  },
  {
   "cell_type": "code",
   "execution_count": 160,
   "id": "bf81692e",
   "metadata": {},
   "outputs": [
    {
     "name": "stdout",
     "output_type": "stream",
     "text": [
      "GARCH model pred. volt. 0.016721007800705564\n",
      "acutual volatility Date\n",
      "2025-01-02    0.120973\n",
      "Name: returns, dtype: float64\n"
     ]
    }
   ],
   "source": [
    "print(\"GARCH model pred. volt.\", latest_daily_vol)\n",
    "print(\"acutual volatility\", realized_vol)"
   ]
  }
 ],
 "metadata": {
  "kernelspec": {
   "display_name": "regressionmode",
   "language": "python",
   "name": "python3"
  },
  "language_info": {
   "codemirror_mode": {
    "name": "ipython",
    "version": 3
   },
   "file_extension": ".py",
   "mimetype": "text/x-python",
   "name": "python",
   "nbconvert_exporter": "python",
   "pygments_lexer": "ipython3",
   "version": "3.11.0"
  }
 },
 "nbformat": 4,
 "nbformat_minor": 5
}
